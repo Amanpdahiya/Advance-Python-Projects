{
  "nbformat": 4,
  "nbformat_minor": 0,
  "metadata": {
    "colab": {
      "provenance": []
    },
    "kernelspec": {
      "name": "python3",
      "display_name": "Python 3"
    },
    "language_info": {
      "name": "python"
    }
  },
  "cells": [
    {
      "cell_type": "code",
      "execution_count": 1,
      "metadata": {
        "colab": {
          "base_uri": "https://localhost:8080/"
        },
        "id": "U_jLD6eh6feN",
        "outputId": "69fce46e-9356-4486-d145-ec5c18e14c7b"
      },
      "outputs": [
        {
          "output_type": "stream",
          "name": "stdout",
          "text": [
            "Matched: 123\n"
          ]
        }
      ],
      "source": [
        "import re\n",
        "\n",
        "pattern = r'\\d+'\n",
        "text = \"123abc\"\n",
        "\n",
        "match = re.match(pattern, text)\n",
        "if match:\n",
        "    print(f\"Matched: {match.group()}\")\n",
        "else:\n",
        "    print(\"No match\")"
      ]
    },
    {
      "cell_type": "code",
      "source": [
        "import re\n",
        "\n",
        "pattern = r'\\d+'\n",
        "text = \"abc123xyz\"\n",
        "\n",
        "search = re.search(pattern, text)\n",
        "if search:\n",
        "    print(f\"Found: {search.group()}\")\n",
        "else:\n",
        "    print(\"Not found\")"
      ],
      "metadata": {
        "colab": {
          "base_uri": "https://localhost:8080/"
        },
        "id": "F7uoffJL6mWG",
        "outputId": "ee635a21-47a8-4835-bb71-e63de49e9976"
      },
      "execution_count": 2,
      "outputs": [
        {
          "output_type": "stream",
          "name": "stdout",
          "text": [
            "Found: 123\n"
          ]
        }
      ]
    },
    {
      "cell_type": "code",
      "source": [
        "import re\n",
        "\n",
        "pattern = r'\\d+'\n",
        "text = \"abc123xyz456\"\n",
        "\n",
        "matches = re.findall(pattern, text)\n",
        "print(f\"Matches: {matches}\")"
      ],
      "metadata": {
        "colab": {
          "base_uri": "https://localhost:8080/"
        },
        "id": "THpg_VIr7P4l",
        "outputId": "eb0c3cc8-893f-4239-a6c0-43a324cf4bcd"
      },
      "execution_count": 3,
      "outputs": [
        {
          "output_type": "stream",
          "name": "stdout",
          "text": [
            "Matches: ['123', '456']\n"
          ]
        }
      ]
    },
    {
      "cell_type": "code",
      "source": [
        "import re\n",
        "\n",
        "pattern = r'\\d+'\n",
        "text = \"abc123xyz456\"\n",
        "\n",
        "matches = re.finditer(pattern, text)\n",
        "for match in matches:\n",
        "    print(f\"Match: {match.group()}\")"
      ],
      "metadata": {
        "colab": {
          "base_uri": "https://localhost:8080/"
        },
        "id": "w5oF9VWo7Sp-",
        "outputId": "7dadefc2-6c4a-45ca-b1e0-ed20bd782b22"
      },
      "execution_count": 4,
      "outputs": [
        {
          "output_type": "stream",
          "name": "stdout",
          "text": [
            "Match: 123\n",
            "Match: 456\n"
          ]
        }
      ]
    },
    {
      "cell_type": "code",
      "source": [
        "import re\n",
        "\n",
        "pattern = r'\\d+'\n",
        "replacement = '#'\n",
        "text = \"abc123xyz456\"\n",
        "\n",
        "result = re.sub(pattern, replacement, text)\n",
        "print(f\"Result: {result}\")"
      ],
      "metadata": {
        "colab": {
          "base_uri": "https://localhost:8080/"
        },
        "id": "lZJ5Yo7a7b6k",
        "outputId": "809d9495-2c68-4d6f-8c64-b736eb97d8e4"
      },
      "execution_count": 5,
      "outputs": [
        {
          "output_type": "stream",
          "name": "stdout",
          "text": [
            "Result: abc#xyz#\n"
          ]
        }
      ]
    },
    {
      "cell_type": "code",
      "source": [
        "import re\n",
        "\n",
        "pattern = r'\\d+'\n",
        "text = \"abc123xyz456\"\n",
        "\n",
        "split_result = re.split(pattern, text)\n",
        "print(f\"Split result: {split_result}\")"
      ],
      "metadata": {
        "colab": {
          "base_uri": "https://localhost:8080/"
        },
        "id": "aWiGY-g27eMD",
        "outputId": "e8c33861-bbd0-49b8-ef4f-e92cf8b3ad77"
      },
      "execution_count": 6,
      "outputs": [
        {
          "output_type": "stream",
          "name": "stdout",
          "text": [
            "Split result: ['abc', 'xyz', '']\n"
          ]
        }
      ]
    },
    {
      "cell_type": "code",
      "source": [
        "import re\n",
        "\n",
        "pattern = r'(\\d+)-(\\w+)'\n",
        "text = \"123-abc\"\n",
        "\n",
        "match = re.search(pattern, text)\n",
        "if match:\n",
        "    print(f\"Group 1: {match.group(1)}\")\n",
        "    print(f\"Group 2: {match.group(2)}\")"
      ],
      "metadata": {
        "colab": {
          "base_uri": "https://localhost:8080/"
        },
        "id": "TFaSpntS7gmI",
        "outputId": "81d73d95-0e1b-44cb-c772-f18da0e6e42c"
      },
      "execution_count": 7,
      "outputs": [
        {
          "output_type": "stream",
          "name": "stdout",
          "text": [
            "Group 1: 123\n",
            "Group 2: abc\n"
          ]
        }
      ]
    },
    {
      "cell_type": "code",
      "source": [
        "import re\n",
        "\n",
        "pattern = r'\\d+(?=abc)'\n",
        "text = \"123abc456\"\n",
        "\n",
        "match = re.search(pattern, text)\n",
        "if match:\n",
        "    print(f\"Lookahead match: {match.group()}\")"
      ],
      "metadata": {
        "colab": {
          "base_uri": "https://localhost:8080/"
        },
        "id": "ZmbhbDn47jOR",
        "outputId": "a276cb64-efc0-4d0f-9eb8-175685d98a49"
      },
      "execution_count": 8,
      "outputs": [
        {
          "output_type": "stream",
          "name": "stdout",
          "text": [
            "Lookahead match: 123\n"
          ]
        }
      ]
    },
    {
      "cell_type": "code",
      "source": [
        "import re\n",
        "\n",
        "pattern = r'\\d+(?!abc)'\n",
        "text = \"123def456abc\"\n",
        "\n",
        "matches = re.findall(pattern, text)\n",
        "print(f\"Negative lookahead matches: {matches}\")"
      ],
      "metadata": {
        "colab": {
          "base_uri": "https://localhost:8080/"
        },
        "id": "RBbYOGpo7pwk",
        "outputId": "57ec9c41-e5db-4745-9dfb-215138b0f650"
      },
      "execution_count": 9,
      "outputs": [
        {
          "output_type": "stream",
          "name": "stdout",
          "text": [
            "Negative lookahead matches: ['123', '45']\n"
          ]
        }
      ]
    },
    {
      "cell_type": "code",
      "source": [
        "import re\n",
        "\n",
        "pattern = r'(?<=abc)\\d+'\n",
        "text = \"abc123def456\"\n",
        "\n",
        "match = re.search(pattern, text)\n",
        "if match:\n",
        "    print(f\"Lookbehind match: {match.group()}\")"
      ],
      "metadata": {
        "colab": {
          "base_uri": "https://localhost:8080/"
        },
        "id": "3ZN6Vw_K7sOk",
        "outputId": "20625287-d542-46ee-e945-b72bdfb01e61"
      },
      "execution_count": 10,
      "outputs": [
        {
          "output_type": "stream",
          "name": "stdout",
          "text": [
            "Lookbehind match: 123\n"
          ]
        }
      ]
    },
    {
      "cell_type": "code",
      "source": [
        "import re\n",
        "\n",
        "pattern = r'(?<!abc)\\d+'\n",
        "text = \"abc123def456\"\n",
        "\n",
        "matches = re.findall(pattern, text)\n",
        "print(f\"Negative lookbehind matches: {matches}\")"
      ],
      "metadata": {
        "colab": {
          "base_uri": "https://localhost:8080/"
        },
        "id": "NHcQ5Drp7u4V",
        "outputId": "c289f76c-94e9-4a7f-8f56-605a61c03fa1"
      },
      "execution_count": 11,
      "outputs": [
        {
          "output_type": "stream",
          "name": "stdout",
          "text": [
            "Negative lookbehind matches: ['23', '456']\n"
          ]
        }
      ]
    },
    {
      "cell_type": "code",
      "source": [
        "import re\n",
        "\n",
        "pattern = r'^[a-zA-Z0-9_.+-]+@[a-zA-Z0-9-]+\\.[a-zA-Z0-9-.]+$'\n",
        "text = \"example@example.com\"\n",
        "\n",
        "match = re.match(pattern, text)\n",
        "if match:\n",
        "    print(\"Valid email\")\n",
        "else:\n",
        "    print(\"Invalid email\")"
      ],
      "metadata": {
        "colab": {
          "base_uri": "https://localhost:8080/"
        },
        "id": "MGOtDNXe7xTz",
        "outputId": "5e8357d3-5d00-4685-a820-dd6d4a171a66"
      },
      "execution_count": 12,
      "outputs": [
        {
          "output_type": "stream",
          "name": "stdout",
          "text": [
            "Valid email\n"
          ]
        }
      ]
    },
    {
      "cell_type": "code",
      "source": [
        "import re\n",
        "\n",
        "pattern = r'\\b\\d{3}[-.]?\\d{3}[-.]?\\d{4}\\b'\n",
        "text = \"Contact me at 123-456-7890 or 987.654.3210\"\n",
        "\n",
        "matches = re.findall(pattern, text)\n",
        "print(f\"Phone numbers: {matches}\")"
      ],
      "metadata": {
        "colab": {
          "base_uri": "https://localhost:8080/"
        },
        "id": "hBJTl8187zp7",
        "outputId": "d987267d-6fa0-4d7e-8684-85281e0965d3"
      },
      "execution_count": 13,
      "outputs": [
        {
          "output_type": "stream",
          "name": "stdout",
          "text": [
            "Phone numbers: ['123-456-7890', '987.654.3210']\n"
          ]
        }
      ]
    },
    {
      "cell_type": "code",
      "source": [
        "import re\n",
        "\n",
        "pattern = r'(\\d{4}-\\d{2}-\\d{2}) (\\d{2}:\\d{2}:\\d{2}),(\\d+) - (\\w+) - (.*)'\n",
        "log_entry = \"2024-06-03 12:34:56,789 - INFO - This is a log message\"\n",
        "\n",
        "match = re.match(pattern, log_entry)\n",
        "if match:\n",
        "    print(f\"Date: {match.group(1)}\")\n",
        "    print(f\"Time: {match.group(2)}\")\n",
        "    print(f\"Milliseconds: {match.group(3)}\")\n",
        "    print(f\"Level: {match.group(4)}\")\n",
        "    print(f\"Message: {match.group(5)}\")"
      ],
      "metadata": {
        "colab": {
          "base_uri": "https://localhost:8080/"
        },
        "id": "2CaL6zBh72JS",
        "outputId": "f88da674-f611-45ab-a57b-4b6de10cc2d4"
      },
      "execution_count": 14,
      "outputs": [
        {
          "output_type": "stream",
          "name": "stdout",
          "text": [
            "Date: 2024-06-03\n",
            "Time: 12:34:56\n",
            "Milliseconds: 789\n",
            "Level: INFO\n",
            "Message: This is a log message\n"
          ]
        }
      ]
    },
    {
      "cell_type": "code",
      "source": [
        "import re\n",
        "\n",
        "text = \"<div>content</div><div>another content</div>\"\n",
        "pattern_greedy = r'<div>.*</div>'\n",
        "pattern_non_greedy = r'<div>.*?</div>'\n",
        "\n",
        "match_greedy = re.findall(pattern_greedy, text)\n",
        "match_non_greedy = re.findall(pattern_non_greedy, text)\n",
        "\n",
        "print(f\"Greedy match: {match_greedy}\")\n",
        "print(f\"Non-Greedy match: {match_non_greedy}\")"
      ],
      "metadata": {
        "colab": {
          "base_uri": "https://localhost:8080/"
        },
        "id": "kb7An78b74tq",
        "outputId": "08334492-6b0b-4e44-e110-9f6e64967e14"
      },
      "execution_count": 15,
      "outputs": [
        {
          "output_type": "stream",
          "name": "stdout",
          "text": [
            "Greedy match: ['<div>content</div><div>another content</div>']\n",
            "Non-Greedy match: ['<div>content</div>', '<div>another content</div>']\n"
          ]
        }
      ]
    },
    {
      "cell_type": "code",
      "source": [
        "import re\n",
        "\n",
        "pattern = r'(\\b\\w+)\\s+\\1'\n",
        "text = \"hello hello world world\"\n",
        "\n",
        "matches = re.findall(pattern, text)\n",
        "print(f\"Backreferences match: {matches}\")"
      ],
      "metadata": {
        "colab": {
          "base_uri": "https://localhost:8080/"
        },
        "id": "wpVUm0S5778R",
        "outputId": "efbc0401-673a-4d14-e027-8fafb64efc04"
      },
      "execution_count": 16,
      "outputs": [
        {
          "output_type": "stream",
          "name": "stdout",
          "text": [
            "Backreferences match: ['hello', 'world']\n"
          ]
        }
      ]
    },
    {
      "cell_type": "code",
      "source": [
        "import re\n",
        "\n",
        "pattern = r'(a)?b(?(1)c|d)'\n",
        "text1 = \"abc\"\n",
        "text2 = \"bd\"\n",
        "\n",
        "match1 = re.match(pattern, text1)\n",
        "match2 = re.match(pattern, text2)\n",
        "\n",
        "print(f\"Conditional match 1: {match1.group() if match1 else 'No match'}\")\n",
        "print(f\"Conditional match 2: {match2.group() if match2 else 'No match'}\")"
      ],
      "metadata": {
        "colab": {
          "base_uri": "https://localhost:8080/"
        },
        "id": "pKRYK_7r7_-O",
        "outputId": "44439d46-87b8-470e-9aac-b8c2a310f419"
      },
      "execution_count": 17,
      "outputs": [
        {
          "output_type": "stream",
          "name": "stdout",
          "text": [
            "Conditional match 1: abc\n",
            "Conditional match 2: bd\n"
          ]
        }
      ]
    },
    {
      "cell_type": "code",
      "source": [
        "import re\n",
        "\n",
        "pattern = r'^\\d+'\n",
        "text = \"\"\"123\n",
        "abc\n",
        "456\n",
        "def\"\"\"\n",
        "\n",
        "matches = re.findall(pattern, text, re.MULTILINE)\n",
        "print(f\"Multiline matches: {matches}\")"
      ],
      "metadata": {
        "colab": {
          "base_uri": "https://localhost:8080/"
        },
        "id": "TXIO8OJu8CfL",
        "outputId": "1a68179e-a227-4e0a-d80a-8455e1a74de4"
      },
      "execution_count": 18,
      "outputs": [
        {
          "output_type": "stream",
          "name": "stdout",
          "text": [
            "Multiline matches: ['123', '456']\n"
          ]
        }
      ]
    },
    {
      "cell_type": "code",
      "source": [
        "import re\n",
        "\n",
        "pattern = r'.*'\n",
        "text = \"\"\"line1\n",
        "line2\n",
        "line3\"\"\"\n",
        "\n",
        "match = re.match(pattern, text, re.DOTALL)\n",
        "print(f\"Dotall match: {match.group() if match else 'No match'}\")"
      ],
      "metadata": {
        "colab": {
          "base_uri": "https://localhost:8080/"
        },
        "id": "u_xV6_qe8FLA",
        "outputId": "ad16524d-ccf6-4543-e307-0b8df6db2258"
      },
      "execution_count": 19,
      "outputs": [
        {
          "output_type": "stream",
          "name": "stdout",
          "text": [
            "Dotall match: line1\n",
            "line2\n",
            "line3\n"
          ]
        }
      ]
    },
    {
      "cell_type": "code",
      "source": [
        "import re\n",
        "\n",
        "pattern = r'\\w+'\n",
        "text = \"Café Müller\"\n",
        "\n",
        "matches = re.findall(pattern, text, re.UNICODE)\n",
        "print(f\"Unicode matches: {matches}\")"
      ],
      "metadata": {
        "colab": {
          "base_uri": "https://localhost:8080/"
        },
        "id": "d2EkbaJ68Hr7",
        "outputId": "84c85dfa-4fad-4676-bb0e-dc2a86c988b6"
      },
      "execution_count": 20,
      "outputs": [
        {
          "output_type": "stream",
          "name": "stdout",
          "text": [
            "Unicode matches: ['Café', 'Müller']\n"
          ]
        }
      ]
    },
    {
      "cell_type": "code",
      "source": [
        "import re\n",
        "\n",
        "pattern = re.compile(r'\\d+')\n",
        "text = \"123 456 789\"\n",
        "\n",
        "matches = pattern.findall(text)\n",
        "print(f\"Compiled matches: {matches}\")"
      ],
      "metadata": {
        "colab": {
          "base_uri": "https://localhost:8080/"
        },
        "id": "gEtPXG-E8KLs",
        "outputId": "6f231e8f-4848-4bf2-a686-b4ada67a458e"
      },
      "execution_count": 21,
      "outputs": [
        {
          "output_type": "stream",
          "name": "stdout",
          "text": [
            "Compiled matches: ['123', '456', '789']\n"
          ]
        }
      ]
    },
    {
      "cell_type": "code",
      "source": [
        "import re\n",
        "\n",
        "pattern = r'\\b\\d{3}\\b'\n",
        "text = \"100 200 300\"\n",
        "\n",
        "matches = re.findall(pattern, text)\n",
        "print(f\"Raw string matches: {matches}\")"
      ],
      "metadata": {
        "colab": {
          "base_uri": "https://localhost:8080/"
        },
        "id": "u5ABF5fA8MUw",
        "outputId": "16785448-1ba0-44e0-9309-4b5ecf1dcd13"
      },
      "execution_count": 22,
      "outputs": [
        {
          "output_type": "stream",
          "name": "stdout",
          "text": [
            "Raw string matches: ['100', '200', '300']\n"
          ]
        }
      ]
    },
    {
      "cell_type": "code",
      "source": [
        "import re\n",
        "\n",
        "pattern = r'https?://[^\\s<>\"]+|www\\.[^\\s<>\"]+'\n",
        "text = \"Visit https://www.linkedin.com/in/gaurav-kumar007/ and https://topmate.io/gaurav_kumar_quant for more info. Also check https://docs.python.org/3/howto/regex.html.\"\n",
        "\n",
        "matches = re.findall(pattern, text)\n",
        "print(f\"URLs: {matches}\")"
      ],
      "metadata": {
        "colab": {
          "base_uri": "https://localhost:8080/"
        },
        "id": "StPg_j5G8Of5",
        "outputId": "ed9a0783-403a-43ae-8ca4-8ba0e3709e69"
      },
      "execution_count": 23,
      "outputs": [
        {
          "output_type": "stream",
          "name": "stdout",
          "text": [
            "URLs: ['https://www.linkedin.com/in/gaurav-kumar007/', 'https://topmate.io/gaurav_kumar_quant', 'https://docs.python.org/3/howto/regex.html.']\n"
          ]
        }
      ]
    },
    {
      "cell_type": "code",
      "source": [
        "import re\n",
        "\n",
        "pattern = r'^(?=.*[A-Z])(?=.*[a-z])(?=.*\\d)(?=.*[@$!%*?&])[A-Za-z\\d@$!%*?&]{8,}$'\n",
        "passwords = [\"Password1!\", \"pass\", \"PASSWORD1!\", \"Pass1!\", \"ValidPass123!\"]\n",
        "\n",
        "for pwd in passwords:\n",
        "    match = re.match(pattern, pwd)\n",
        "    print(f\"Password: {pwd} - {'Valid' if match else 'Invalid'}\")"
      ],
      "metadata": {
        "colab": {
          "base_uri": "https://localhost:8080/"
        },
        "id": "QxZSLi0J8Q8k",
        "outputId": "995f11e9-fd28-406b-8b21-35c73c0ecd6f"
      },
      "execution_count": 24,
      "outputs": [
        {
          "output_type": "stream",
          "name": "stdout",
          "text": [
            "Password: Password1! - Valid\n",
            "Password: pass - Invalid\n",
            "Password: PASSWORD1! - Invalid\n",
            "Password: Pass1! - Invalid\n",
            "Password: ValidPass123! - Valid\n"
          ]
        }
      ]
    },
    {
      "cell_type": "code",
      "source": [
        "import re\n",
        "\n",
        "text = \"This    is  a  test   string.\"\n",
        "\n",
        "# Remove extra spaces\n",
        "cleaned_text = re.sub(r'\\s+', ' ', text).strip()\n",
        "print(f\"Cleaned text: {cleaned_text}\")"
      ],
      "metadata": {
        "colab": {
          "base_uri": "https://localhost:8080/"
        },
        "id": "rhvK8OLz8TUY",
        "outputId": "8123d4a6-6c09-4727-d6a3-c51414134fbf"
      },
      "execution_count": 25,
      "outputs": [
        {
          "output_type": "stream",
          "name": "stdout",
          "text": [
            "Cleaned text: This is a test string.\n"
          ]
        }
      ]
    },
    {
      "cell_type": "code",
      "source": [
        "import re\n",
        "\n",
        "pattern = r'(\\d{4})-(\\d{2})-(\\d{2})'\n",
        "text = \"Dates: 2024-06-03, 2023-12-25, and 2025-01-01.\"\n",
        "\n",
        "matches = re.findall(pattern, text)\n",
        "formatted_dates = [f\"{year}/{month}/{day}\" for year, month, day in matches]\n",
        "print(f\"Formatted dates: {formatted_dates}\")"
      ],
      "metadata": {
        "colab": {
          "base_uri": "https://localhost:8080/"
        },
        "id": "Y5BzJKzX8Vzg",
        "outputId": "2b71ce7b-dc26-4445-d775-444451b2b4fd"
      },
      "execution_count": 26,
      "outputs": [
        {
          "output_type": "stream",
          "name": "stdout",
          "text": [
            "Formatted dates: ['2024/06/03', '2023/12/25', '2025/01/01']\n"
          ]
        }
      ]
    },
    {
      "cell_type": "code",
      "source": [],
      "metadata": {
        "id": "T5taQjJZ8YmA"
      },
      "execution_count": 26,
      "outputs": []
    }
  ]
}