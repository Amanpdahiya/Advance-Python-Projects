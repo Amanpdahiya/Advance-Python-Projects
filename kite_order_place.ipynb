{
 "cells": [
  {
   "cell_type": "code",
   "execution_count": 13,
   "id": "e927b2db",
   "metadata": {},
   "outputs": [],
   "source": [
    "import pyautogui\n",
    "import time"
   ]
  },
  {
   "cell_type": "code",
   "execution_count": 14,
   "id": "9d3bebd2",
   "metadata": {},
   "outputs": [],
   "source": [
    "stock = 'RELIANCE'"
   ]
  },
  {
   "cell_type": "code",
   "execution_count": 23,
   "id": "04b157ac",
   "metadata": {},
   "outputs": [],
   "source": [
    "time.sleep(2.5)\n",
    "pyautogui.hotkey('ctrl', 'tab')\n",
    "time.sleep(1)\n",
    "pyautogui.moveTo(searchx,searchy,1)\n",
    "pyautogui.click(searchx,searchy)\n",
    "pyautogui.write(stock,0.25)\n",
    "time.sleep(0.5)\n",
    "pyautogui.moveTo(bx,by,1)\n",
    "time.sleep(0.5)\n",
    "pyautogui.click(bx,by)\n",
    "time.sleep(0.5)\n",
    "pyautogui.click(ex,ey)"
   ]
  },
  {
   "cell_type": "code",
   "execution_count": 24,
   "id": "6e48e1b9",
   "metadata": {},
   "outputs": [
    {
     "data": {
      "text/plain": [
       "(209, 189, 346, 244, 1104, 976)"
      ]
     },
     "execution_count": 24,
     "metadata": {},
     "output_type": "execute_result"
    }
   ],
   "source": [
    "searchx,searchy,bx,by,ex,ey"
   ]
  },
  {
   "cell_type": "code",
   "execution_count": null,
   "id": "7eb7ca1d",
   "metadata": {},
   "outputs": [],
   "source": []
  }
 ],
 "metadata": {
  "kernelspec": {
   "display_name": "Python 3 (ipykernel)",
   "language": "python",
   "name": "python3"
  },
  "language_info": {
   "codemirror_mode": {
    "name": "ipython",
    "version": 3
   },
   "file_extension": ".py",
   "mimetype": "text/x-python",
   "name": "python",
   "nbconvert_exporter": "python",
   "pygments_lexer": "ipython3",
   "version": "3.9.7"
  }
 },
 "nbformat": 4,
 "nbformat_minor": 5
}
