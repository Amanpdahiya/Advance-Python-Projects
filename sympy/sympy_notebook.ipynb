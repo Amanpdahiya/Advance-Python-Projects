{
 "cells": [
  {
   "cell_type": "code",
   "execution_count": 3,
   "id": "680e18b5",
   "metadata": {},
   "outputs": [],
   "source": [
    "import sympy as sp"
   ]
  },
  {
   "cell_type": "code",
   "execution_count": 5,
   "id": "a48b6f9d",
   "metadata": {},
   "outputs": [],
   "source": [
    "import numpy as np"
   ]
  },
  {
   "cell_type": "markdown",
   "id": "4389905f",
   "metadata": {},
   "source": [
    "    Notice the difference between the values given out by the sympy and numpy"
   ]
  },
  {
   "cell_type": "code",
   "execution_count": 7,
   "id": "443269e6",
   "metadata": {},
   "outputs": [
    {
     "data": {
      "text/latex": [
       "$\\displaystyle \\sqrt{5}$"
      ],
      "text/plain": [
       "sqrt(5)"
      ]
     },
     "execution_count": 7,
     "metadata": {},
     "output_type": "execute_result"
    }
   ],
   "source": [
    "sp.sqrt(5)"
   ]
  },
  {
   "cell_type": "code",
   "execution_count": 8,
   "id": "be405667",
   "metadata": {},
   "outputs": [
    {
     "data": {
      "text/plain": [
       "2.23606797749979"
      ]
     },
     "execution_count": 8,
     "metadata": {},
     "output_type": "execute_result"
    }
   ],
   "source": [
    "np.sqrt(5)"
   ]
  },
  {
   "cell_type": "markdown",
   "id": "0d639dac",
   "metadata": {},
   "source": [
    "### Defining the symbols in sympy"
   ]
  },
  {
   "cell_type": "code",
   "execution_count": 16,
   "id": "9b6e15f4",
   "metadata": {},
   "outputs": [
    {
     "data": {
      "text/latex": [
       "$\\displaystyle x$"
      ],
      "text/plain": [
       "x"
      ]
     },
     "execution_count": 16,
     "metadata": {},
     "output_type": "execute_result"
    }
   ],
   "source": [
    "y = sp.Symbol('x')\n",
    "y"
   ]
  },
  {
   "cell_type": "code",
   "execution_count": 17,
   "id": "88ea1cfd",
   "metadata": {},
   "outputs": [
    {
     "data": {
      "text/latex": [
       "$\\displaystyle 2 x + 5$"
      ],
      "text/plain": [
       "2*x + 5"
      ]
     },
     "execution_count": 17,
     "metadata": {},
     "output_type": "execute_result"
    }
   ],
   "source": [
    "# writing a simple expression\n",
    "2*y+5"
   ]
  },
  {
   "cell_type": "code",
   "execution_count": 18,
   "id": "41f54902",
   "metadata": {},
   "outputs": [
    {
     "data": {
      "text/latex": [
       "$\\displaystyle 3 x + 9$"
      ],
      "text/plain": [
       "3*x + 9"
      ]
     },
     "execution_count": 18,
     "metadata": {},
     "output_type": "execute_result"
    }
   ],
   "source": [
    "2*y+y+9"
   ]
  },
  {
   "cell_type": "markdown",
   "id": "adbf2188",
   "metadata": {},
   "source": [
    "## "
   ]
  },
  {
   "cell_type": "code",
   "execution_count": 10,
   "id": "edb702f5",
   "metadata": {},
   "outputs": [
    {
     "data": {
      "text/latex": [
       "$\\displaystyle \\cos{\\left(60 \\right)}$"
      ],
      "text/plain": [
       "cos(60)"
      ]
     },
     "execution_count": 10,
     "metadata": {},
     "output_type": "execute_result"
    }
   ],
   "source": [
    "sp.cos(60)"
   ]
  },
  {
   "cell_type": "code",
   "execution_count": 11,
   "id": "ef67dd5f",
   "metadata": {},
   "outputs": [
    {
     "data": {
      "text/latex": [
       "$\\displaystyle \\sin{\\left(90 \\right)}$"
      ],
      "text/plain": [
       "sin(90)"
      ]
     },
     "execution_count": 11,
     "metadata": {},
     "output_type": "execute_result"
    }
   ],
   "source": [
    "sp.sin(90)"
   ]
  },
  {
   "cell_type": "code",
   "execution_count": 20,
   "id": "11e15188",
   "metadata": {},
   "outputs": [
    {
     "data": {
      "text/latex": [
       "$\\displaystyle \\sin^{2}{\\left(x \\right)} + \\cos^{2}{\\left(x \\right)}$"
      ],
      "text/plain": [
       "sin(x)**2 + cos(x)**2"
      ]
     },
     "execution_count": 20,
     "metadata": {},
     "output_type": "execute_result"
    }
   ],
   "source": [
    "sp.sin(y)**2 + sp.cos(y)**2"
   ]
  },
  {
   "cell_type": "markdown",
   "id": "52234c44",
   "metadata": {},
   "source": [
    "    "
   ]
  },
  {
   "cell_type": "code",
   "execution_count": 24,
   "id": "f6b1df2f",
   "metadata": {},
   "outputs": [
    {
     "data": {
      "text/latex": [
       "$\\displaystyle x^{2} + 2 x - 15$"
      ],
      "text/plain": [
       "x**2 + 2*x - 15"
      ]
     },
     "execution_count": 24,
     "metadata": {},
     "output_type": "execute_result"
    }
   ],
   "source": [
    "# factoring some polynomials\n",
    "\n",
    "x = sp.Symbol('x')\n",
    "\n",
    "expr = x**2 + 2*x - 15\n",
    "expr"
   ]
  },
  {
   "cell_type": "code",
   "execution_count": 28,
   "id": "f849c738",
   "metadata": {},
   "outputs": [
    {
     "data": {
      "text/latex": [
       "$\\displaystyle \\left(x - 3\\right) \\left(x + 5\\right)$"
      ],
      "text/plain": [
       "(x - 3)*(x + 5)"
      ]
     },
     "execution_count": 28,
     "metadata": {},
     "output_type": "execute_result"
    }
   ],
   "source": [
    "expr.factor()"
   ]
  },
  {
   "cell_type": "code",
   "execution_count": 27,
   "id": "833afee3",
   "metadata": {},
   "outputs": [
    {
     "data": {
      "text/latex": [
       "$\\displaystyle 4 \\sin{\\left(x \\right)} - 2 \\sin{\\left(2 x \\right)} - 4 \\cos{\\left(x \\right)} + \\cos{\\left(2 x \\right)} + \\frac{- 30 \\pi + \\frac{2 \\pi^{3}}{3}}{2 \\pi} + \\ldots$"
      ],
      "text/plain": [
       "FourierSeries(x**2 + 2*x - 15, (x, -pi, pi), ((-30*pi + 2*pi**3/3)/(2*pi), SeqFormula(Piecewise((-30*sin(_n*pi)/_n + 2*pi**2*sin(_n*pi)/_n + 4*pi*cos(_n*pi)/_n**2 - 4*sin(_n*pi)/_n**3, (_n > -oo) & (_n < oo) & Ne(_n, 0)), (-30*pi + 2*pi**3/3, True))*cos(_n*x)/pi, (_n, 1, oo)), SeqFormula(Piecewise((-4*pi*cos(_n*pi)/_n + 4*sin(_n*pi)/_n**2, (_n > -oo) & (_n < oo) & Ne(_n, 0)), (0, True))*sin(_n*x)/pi, (_n, 1, oo))))"
      ]
     },
     "execution_count": 27,
     "metadata": {},
     "output_type": "execute_result"
    }
   ],
   "source": [
    "expr.fourier_series() # and many more other functions"
   ]
  },
  {
   "cell_type": "code",
   "execution_count": 36,
   "id": "702d1c78",
   "metadata": {},
   "outputs": [
    {
     "data": {
      "text/latex": [
       "$\\displaystyle x^{11} - 1$"
      ],
      "text/plain": [
       "x**11 - 1"
      ]
     },
     "execution_count": 36,
     "metadata": {},
     "output_type": "execute_result"
    }
   ],
   "source": [
    "expr1 = (x**11 - 1)\n",
    "expr1"
   ]
  },
  {
   "cell_type": "code",
   "execution_count": 37,
   "id": "eafaf514",
   "metadata": {},
   "outputs": [
    {
     "data": {
      "text/latex": [
       "$\\displaystyle \\left(x - 1\\right) \\left(x^{10} + x^{9} + x^{8} + x^{7} + x^{6} + x^{5} + x^{4} + x^{3} + x^{2} + x + 1\\right)$"
      ],
      "text/plain": [
       "(x - 1)*(x**10 + x**9 + x**8 + x**7 + x**6 + x**5 + x**4 + x**3 + x**2 + x + 1)"
      ]
     },
     "execution_count": 37,
     "metadata": {},
     "output_type": "execute_result"
    }
   ],
   "source": [
    "expr1.factor()"
   ]
  },
  {
   "cell_type": "markdown",
   "id": "f89bd1fa",
   "metadata": {},
   "source": [
    "### Solving Equations"
   ]
  },
  {
   "cell_type": "code",
   "execution_count": 38,
   "id": "092734bf",
   "metadata": {},
   "outputs": [],
   "source": [
    "x,y,z = sp.symbols('x,y,z')"
   ]
  },
  {
   "cell_type": "code",
   "execution_count": 40,
   "id": "2121ff08",
   "metadata": {},
   "outputs": [
    {
     "data": {
      "text/latex": [
       "$\\displaystyle x^{2} = 5$"
      ],
      "text/plain": [
       "Eq(x**2, 5)"
      ]
     },
     "execution_count": 40,
     "metadata": {},
     "output_type": "execute_result"
    }
   ],
   "source": [
    "# step 1 - defining an equation\n",
    "\n",
    "eq1 = sp.Eq(x**2,5)\n",
    "eq1"
   ]
  },
  {
   "cell_type": "code",
   "execution_count": 41,
   "id": "786d5e15",
   "metadata": {},
   "outputs": [
    {
     "data": {
      "text/latex": [
       "$\\displaystyle \\left\\{- \\sqrt{5}, \\sqrt{5}\\right\\}$"
      ],
      "text/plain": [
       "{-sqrt(5), sqrt(5)}"
      ]
     },
     "execution_count": 41,
     "metadata": {},
     "output_type": "execute_result"
    }
   ],
   "source": [
    "# solving the equation\n",
    "\n",
    "sp.solveset(eq1,x)"
   ]
  },
  {
   "cell_type": "markdown",
   "id": "c4a05a9f",
   "metadata": {},
   "source": [
    "##"
   ]
  },
  {
   "cell_type": "code",
   "execution_count": 44,
   "id": "8d7982e2",
   "metadata": {},
   "outputs": [],
   "source": [
    "# defining the equation\n",
    "eqn = sp.Eq(sp.sin(x) + sp.cos(x),1)"
   ]
  },
  {
   "cell_type": "code",
   "execution_count": 45,
   "id": "4ea3b45c",
   "metadata": {},
   "outputs": [
    {
     "data": {
      "text/latex": [
       "$\\displaystyle \\sin{\\left(x \\right)} + \\cos{\\left(x \\right)} = 1$"
      ],
      "text/plain": [
       "Eq(sin(x) + cos(x), 1)"
      ]
     },
     "execution_count": 45,
     "metadata": {},
     "output_type": "execute_result"
    }
   ],
   "source": [
    "eqn"
   ]
  },
  {
   "cell_type": "code",
   "execution_count": 47,
   "id": "0abea76b",
   "metadata": {},
   "outputs": [
    {
     "data": {
      "text/latex": [
       "$\\displaystyle \\left\\{2 n \\pi\\; \\middle|\\; n \\in \\mathbb{Z}\\right\\} \\cup \\left\\{2 n \\pi + \\frac{\\pi}{2}\\; \\middle|\\; n \\in \\mathbb{Z}\\right\\}$"
      ],
      "text/plain": [
       "Union(ImageSet(Lambda(_n, 2*_n*pi), Integers), ImageSet(Lambda(_n, 2*_n*pi + pi/2), Integers))"
      ]
     },
     "execution_count": 47,
     "metadata": {},
     "output_type": "execute_result"
    }
   ],
   "source": [
    "# solving the equation\n",
    "sp.solveset(eqn,x)          # since this is true for more than one value, the result we got is a range"
   ]
  },
  {
   "cell_type": "markdown",
   "id": "a460eb32",
   "metadata": {},
   "source": [
    "##"
   ]
  },
  {
   "cell_type": "code",
   "execution_count": 50,
   "id": "3b2b7eab",
   "metadata": {},
   "outputs": [
    {
     "data": {
      "text/plain": [
       "(Eq(4*x + y - 2*z, 0), Eq(2*x - 3*y + 3*z, 9), Eq(-6*x - 2*y + z, 0))"
      ]
     },
     "execution_count": 50,
     "metadata": {},
     "output_type": "execute_result"
    }
   ],
   "source": [
    "# lets solve system of linear equation with 3 variables\n",
    "eq1 = sp.Eq(4*x + y - 2*z,0)\n",
    "eq2 = sp.Eq(2*x - 3*y + 3*z,9)\n",
    "eq3 = sp.Eq(-6*x - 2*y + z,0)\n",
    "eq1, eq2, eq3"
   ]
  },
  {
   "cell_type": "code",
   "execution_count": 51,
   "id": "cd42c3cf",
   "metadata": {},
   "outputs": [
    {
     "data": {
      "text/latex": [
       "$\\displaystyle \\left\\{\\left( \\frac{3}{4}, \\  -2, \\  \\frac{1}{2}\\right)\\right\\}$"
      ],
      "text/plain": [
       "{(3/4, -2, 1/2)}"
      ]
     },
     "execution_count": 51,
     "metadata": {},
     "output_type": "execute_result"
    }
   ],
   "source": [
    "# solving the set of the equations\n",
    "sp.linsolve([eq1, eq2, eq3],x,y,z)"
   ]
  },
  {
   "cell_type": "markdown",
   "id": "affd7971",
   "metadata": {},
   "source": [
    "### Cancel and Apart Method"
   ]
  },
  {
   "cell_type": "code",
   "execution_count": 52,
   "id": "2e009779",
   "metadata": {},
   "outputs": [
    {
     "data": {
      "text/latex": [
       "$\\displaystyle \\frac{x^{3} + 10 x^{2} + 31 x + 30}{x^{2} + 12 x + 35}$"
      ],
      "text/plain": [
       "(x**3 + 10*x**2 + 31*x + 30)/(x**2 + 12*x + 35)"
      ]
     },
     "execution_count": 52,
     "metadata": {},
     "output_type": "execute_result"
    }
   ],
   "source": [
    "# defining a polynomial\n",
    "\n",
    "p = x**3 + 10 * x **2 + 31 * x + 30\n",
    "q = x**2 + 12 * x + 35\n",
    "fraction = p/q\n",
    "fraction"
   ]
  },
  {
   "cell_type": "code",
   "execution_count": 53,
   "id": "1a99165a",
   "metadata": {},
   "outputs": [
    {
     "data": {
      "text/latex": [
       "$\\displaystyle \\frac{x^{2} + 5 x + 6}{x + 7}$"
      ],
      "text/plain": [
       "(x**2 + 5*x + 6)/(x + 7)"
      ]
     },
     "execution_count": 53,
     "metadata": {},
     "output_type": "execute_result"
    }
   ],
   "source": [
    "fraction.cancel()"
   ]
  },
  {
   "cell_type": "code",
   "execution_count": 54,
   "id": "63aab5c9",
   "metadata": {},
   "outputs": [
    {
     "data": {
      "text/latex": [
       "$\\displaystyle x - 2 + \\frac{20}{x + 7}$"
      ],
      "text/plain": [
       "x - 2 + 20/(x + 7)"
      ]
     },
     "execution_count": 54,
     "metadata": {},
     "output_type": "execute_result"
    }
   ],
   "source": [
    "fraction.apart()"
   ]
  },
  {
   "cell_type": "markdown",
   "id": "31ad05b6",
   "metadata": {},
   "source": [
    "## Derivatives in sympy"
   ]
  },
  {
   "cell_type": "code",
   "execution_count": 55,
   "id": "5bfa50c4",
   "metadata": {},
   "outputs": [],
   "source": [
    "x,y = sp.symbols('x y')"
   ]
  },
  {
   "cell_type": "code",
   "execution_count": 56,
   "id": "3f04ffaf",
   "metadata": {},
   "outputs": [
    {
     "data": {
      "text/latex": [
       "$\\displaystyle e^{2 x} + \\sin{\\left(x \\right)}$"
      ],
      "text/plain": [
       "exp(2*x) + sin(x)"
      ]
     },
     "execution_count": 56,
     "metadata": {},
     "output_type": "execute_result"
    }
   ],
   "source": [
    "expr = sp.exp(2*x) + sp.sin(x)\n",
    "expr"
   ]
  },
  {
   "cell_type": "code",
   "execution_count": 57,
   "id": "d96eba50",
   "metadata": {},
   "outputs": [
    {
     "data": {
      "text/latex": [
       "$\\displaystyle 2 e^{2 x} + \\cos{\\left(x \\right)}$"
      ],
      "text/plain": [
       "2*exp(2*x) + cos(x)"
      ]
     },
     "execution_count": 57,
     "metadata": {},
     "output_type": "execute_result"
    }
   ],
   "source": [
    "sp.diff(expr)"
   ]
  },
  {
   "cell_type": "code",
   "execution_count": 62,
   "id": "98a6e153",
   "metadata": {},
   "outputs": [
    {
     "data": {
      "text/latex": [
       "$\\displaystyle 4 e^{2 x} - \\sin{\\left(x \\right)}$"
      ],
      "text/plain": [
       "4*exp(2*x) - sin(x)"
      ]
     },
     "execution_count": 62,
     "metadata": {},
     "output_type": "execute_result"
    }
   ],
   "source": [
    "# differentiating the function several times\n",
    "sp.diff(expr,x,2) # differentiated 2 times with respect to x"
   ]
  },
  {
   "cell_type": "code",
   "execution_count": 65,
   "id": "3bfe28d8",
   "metadata": {},
   "outputs": [],
   "source": [
    "### rewriting the function "
   ]
  },
  {
   "cell_type": "code",
   "execution_count": 64,
   "id": "c758218f",
   "metadata": {},
   "outputs": [
    {
     "data": {
      "text/latex": [
       "$\\displaystyle e^{- \\frac{e^{x}}{2}} e^{\\sinh{\\left(x \\right)}}$"
      ],
      "text/plain": [
       "exp(-exp(x)/2)*exp(sinh(x))"
      ]
     },
     "execution_count": 64,
     "metadata": {},
     "output_type": "execute_result"
    }
   ],
   "source": [
    "expr = sp.exp(sp.sinh(x)) / sp.exp(sp.exp(x) / 2)\n",
    "expr"
   ]
  },
  {
   "cell_type": "code",
   "execution_count": 67,
   "id": "d94b51a6",
   "metadata": {},
   "outputs": [
    {
     "data": {
      "text/latex": [
       "$\\displaystyle e^{\\frac{e^{x}}{2} - \\frac{e^{- x}}{2}} e^{- \\frac{e^{x}}{2}}$"
      ],
      "text/plain": [
       "exp(exp(x)/2 - exp(-x)/2)*exp(-exp(x)/2)"
      ]
     },
     "execution_count": 67,
     "metadata": {},
     "output_type": "execute_result"
    }
   ],
   "source": [
    "expr.rewrite(sp.exp)  ### rewriting the equation in the form of exponent"
   ]
  },
  {
   "cell_type": "code",
   "execution_count": 69,
   "id": "1c8e9f24",
   "metadata": {},
   "outputs": [
    {
     "data": {
      "text/latex": [
       "$\\displaystyle e^{- \\frac{e^{x}}{2} + \\sinh{\\left(x \\right)}}$"
      ],
      "text/plain": [
       "exp(-exp(x)/2 + sinh(x))"
      ]
     },
     "execution_count": 69,
     "metadata": {},
     "output_type": "execute_result"
    }
   ],
   "source": [
    "expr.simplify()  # does every possible simplification on the equation"
   ]
  },
  {
   "cell_type": "code",
   "execution_count": 70,
   "id": "29073c20",
   "metadata": {},
   "outputs": [
    {
     "data": {
      "text/latex": [
       "$\\displaystyle \\cos{\\left(x \\right)} \\cot^{2}{\\left(2 y \\right)}$"
      ],
      "text/plain": [
       "cos(x)*cot(2*y)**2"
      ]
     },
     "execution_count": 70,
     "metadata": {},
     "output_type": "execute_result"
    }
   ],
   "source": [
    "# taking partial differentiation\n",
    "expr = sp.cos(x)*sp.cot(2*y)**2\n",
    "expr"
   ]
  },
  {
   "cell_type": "code",
   "execution_count": 72,
   "id": "f949fe5d",
   "metadata": {},
   "outputs": [
    {
     "data": {
      "text/latex": [
       "$\\displaystyle \\left(- 4 \\cot^{2}{\\left(2 y \\right)} - 4\\right) \\cos{\\left(x \\right)} \\cot{\\left(2 y \\right)}$"
      ],
      "text/plain": [
       "(-4*cot(2*y)**2 - 4)*cos(x)*cot(2*y)"
      ]
     },
     "execution_count": 72,
     "metadata": {},
     "output_type": "execute_result"
    }
   ],
   "source": [
    "# differentiating the function wrt to y\n",
    "expr.diff(y)"
   ]
  },
  {
   "cell_type": "code",
   "execution_count": 75,
   "id": "d8d22b0a",
   "metadata": {},
   "outputs": [
    {
     "data": {
      "text/latex": [
       "$\\displaystyle 8 \\left(\\cot^{2}{\\left(2 y \\right)} + 1\\right) \\left(3 \\cot^{2}{\\left(2 y \\right)} + 1\\right) \\sin{\\left(x \\right)}$"
      ],
      "text/plain": [
       "8*(cot(2*y)**2 + 1)*(3*cot(2*y)**2 + 1)*sin(x)"
      ]
     },
     "execution_count": 75,
     "metadata": {},
     "output_type": "execute_result"
    }
   ],
   "source": [
    "# taking partial derivatives over multi variable\n",
    "\n",
    "\"\"\"\n",
    "partial derivative of the expression wrt y twice and partial derivative wrt x 3 times\n",
    "\"\"\"\n",
    "\n",
    "expr.diff(y,2,x,3) \n"
   ]
  },
  {
   "cell_type": "markdown",
   "id": "45613e2f",
   "metadata": {},
   "source": [
    "## Integrals in sympy"
   ]
  },
  {
   "cell_type": "code",
   "execution_count": 76,
   "id": "d0b6695f",
   "metadata": {},
   "outputs": [],
   "source": [
    "x,y,z = sp.symbols('x,y,z')"
   ]
  },
  {
   "cell_type": "code",
   "execution_count": 95,
   "id": "5b17f315",
   "metadata": {},
   "outputs": [
    {
     "data": {
      "text/latex": [
       "$\\displaystyle \\sin{\\left(3 x \\right)} \\cos{\\left(2 x \\right)} + \\tan{\\left(7 x \\right)}$"
      ],
      "text/plain": [
       "sin(3*x)*cos(2*x) + tan(7*x)"
      ]
     },
     "execution_count": 95,
     "metadata": {},
     "output_type": "execute_result"
    }
   ],
   "source": [
    "# defining a function\n",
    "f = sp.cos(2*x) * sp.sin(3*x) + sp.tan(7*x)\n",
    "f"
   ]
  },
  {
   "cell_type": "code",
   "execution_count": 96,
   "id": "f288ca0e",
   "metadata": {},
   "outputs": [
    {
     "data": {
      "text/latex": [
       "$\\displaystyle - \\frac{\\log{\\left(\\cos{\\left(7 x \\right)} \\right)}}{7} - \\frac{2 \\sin{\\left(2 x \\right)} \\sin{\\left(3 x \\right)}}{5} - \\frac{3 \\cos{\\left(2 x \\right)} \\cos{\\left(3 x \\right)}}{5}$"
      ],
      "text/plain": [
       "-log(cos(7*x))/7 - 2*sin(2*x)*sin(3*x)/5 - 3*cos(2*x)*cos(3*x)/5"
      ]
     },
     "execution_count": 96,
     "metadata": {},
     "output_type": "execute_result"
    }
   ],
   "source": [
    "# integrate the function\n",
    "f.integrate() # you can add the constant in case you want"
   ]
  },
  {
   "cell_type": "code",
   "execution_count": 99,
   "id": "f72b39c0",
   "metadata": {},
   "outputs": [
    {
     "data": {
      "text/latex": [
       "$\\displaystyle 0.309100785873951$"
      ],
      "text/plain": [
       "0.309100785873951"
      ]
     },
     "execution_count": 99,
     "metadata": {},
     "output_type": "execute_result"
    }
   ],
   "source": [
    "# doing definite integration\n",
    "sp.integrate(f, (x,0,0.2))"
   ]
  },
  {
   "cell_type": "code",
   "execution_count": 84,
   "id": "9ecafcb0",
   "metadata": {},
   "outputs": [
    {
     "data": {
      "text/latex": [
       "$\\displaystyle x^{y}$"
      ],
      "text/plain": [
       "x**y"
      ]
     },
     "execution_count": 84,
     "metadata": {},
     "output_type": "execute_result"
    }
   ],
   "source": [
    "# two dimensional function\n",
    "\n",
    "expr = x**y\n",
    "expr"
   ]
  },
  {
   "cell_type": "code",
   "execution_count": 86,
   "id": "00b672e8",
   "metadata": {},
   "outputs": [
    {
     "data": {
      "text/latex": [
       "$\\displaystyle \\begin{cases} \\frac{x^{y}}{\\log{\\left(x \\right)}} & \\text{for}\\: \\log{\\left(x \\right)} \\neq 0 \\\\y & \\text{otherwise} \\end{cases}$"
      ],
      "text/plain": [
       "Piecewise((x**y/log(x), Ne(log(x), 0)), (y, True))"
      ]
     },
     "execution_count": 86,
     "metadata": {},
     "output_type": "execute_result"
    }
   ],
   "source": [
    "sp.integrate(expr,y)  # for multi-variable we need to specify the variable"
   ]
  },
  {
   "cell_type": "code",
   "execution_count": null,
   "id": "7cc8842f",
   "metadata": {},
   "outputs": [],
   "source": []
  }
 ],
 "metadata": {
  "kernelspec": {
   "display_name": "Python 3 (ipykernel)",
   "language": "python",
   "name": "python3"
  },
  "language_info": {
   "codemirror_mode": {
    "name": "ipython",
    "version": 3
   },
   "file_extension": ".py",
   "mimetype": "text/x-python",
   "name": "python",
   "nbconvert_exporter": "python",
   "pygments_lexer": "ipython3",
   "version": "3.10.4"
  }
 },
 "nbformat": 4,
 "nbformat_minor": 5
}
